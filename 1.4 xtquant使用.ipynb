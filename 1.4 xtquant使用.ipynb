{
 "cells": [
  {
   "cell_type": "markdown",
   "metadata": {},
   "source": [
    "# 数据获取"
   ]
  },
  {
   "cell_type": "code",
   "execution_count": 1,
   "metadata": {},
   "outputs": [
    {
     "name": "stdout",
     "output_type": "stream",
     "text": [
      "***** xtdata连接成功 *****\n",
      "服务信息: None\n",
      "服务地址: None\n",
      "数据路径: None\n",
      "设置xtdata.enable_hello = False可隐藏此消息\n",
      "\n",
      "           20010827  20010828  20010829  20010830  20010831  20010903  \\\n",
      "600519.SH     34.51     34.99     36.98     36.28     37.15      37.2   \n",
      "\n",
      "           20010904  20010905  20010906  20010907  ...  20240321  20240322  \\\n",
      "600519.SH     37.01     37.61     37.35      36.5  ...    1708.1   1705.03   \n",
      "\n",
      "           20240325  20240326  20240327  20240328  20240329  20240401  \\\n",
      "600519.SH   1698.54   1687.46    1705.0    1695.0   1701.64   1709.99   \n",
      "\n",
      "           20240402  20240403  \n",
      "600519.SH    1722.0    1734.0  \n",
      "\n",
      "[1 rows x 5484 columns]\n"
     ]
    }
   ],
   "source": [
    "from xtquant import xtdata\n",
    "\n",
    "xtdata.download_history_data2(stock_list=['600519.SH'], period='1d')\n",
    "res = xtdata.get_market_data(stock_list=['600519.SH'], period='1d')\n",
    "print(res['open'])"
   ]
  },
  {
   "cell_type": "markdown",
   "metadata": {},
   "source": [
    "# 交易下单"
   ]
  },
  {
   "cell_type": "markdown",
   "metadata": {},
   "source": []
  },
  {
   "cell_type": "code",
   "execution_count": null,
   "metadata": {},
   "outputs": [],
   "source": [
    "import random\n",
    "\n",
    "from xtquant.xttype import StockAccount\n",
    "from xtquant.xttrader import XtQuantTrader\n",
    "from xtquant import xtconstant\n",
    "\n",
    "# miniQMT安装路径\n",
    "mini_qmt_path = r'D:\\国金证券QMT交易端\\userdata_mini'\n",
    "# QMT账号\n",
    "account = 'xxxxx'\n",
    "# 创建session_id\n",
    "session_id = int(random.randint(100000, 999999))\n",
    "# 创建交易对象\n",
    "xt_trader = XtQuantTrader(mini_qmt_path, session_id)\n",
    "\n",
    "# 启动交易对象\n",
    "xt_trader.start()\n",
    "# 连接客户端\n",
    "connect_result = xt_trader.connect()\n",
    "\n",
    "if connect_result == 0:\n",
    "    print('连接成功')\n",
    "# 创建账号对象\n",
    "acc = StockAccount(account)\n",
    "# 订阅账号\n",
    "xt_trader.subscribe(acc)\n",
    "# 下单\n",
    "res = xt_trader.order_stock(acc, stock_code='600971.SH', order_type=xtconstant.STOCK_SELL, order_volume=100, price_type=xtconstant.LATEST_PRICE, price=-1)\n",
    "\n",
    "print(res)\n",
    "\n",
    "xt_trader.run_forever()"
   ]
  }
 ],
 "metadata": {
  "kernelspec": {
   "display_name": "miniqmt-demo-cptEsqYo-py3.10",
   "language": "python",
   "name": "python3"
  },
  "language_info": {
   "codemirror_mode": {
    "name": "ipython",
    "version": 3
   },
   "file_extension": ".py",
   "mimetype": "text/x-python",
   "name": "python",
   "nbconvert_exporter": "python",
   "pygments_lexer": "ipython3",
   "version": "3.10.11"
  }
 },
 "nbformat": 4,
 "nbformat_minor": 2
}
