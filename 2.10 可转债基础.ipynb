{
 "cells": [
  {
   "cell_type": "markdown",
   "metadata": {},
   "source": [
    "# 下载可转债数据"
   ]
  },
  {
   "cell_type": "code",
   "execution_count": 1,
   "metadata": {},
   "outputs": [
    {
     "name": "stdout",
     "output_type": "stream",
     "text": [
      "***** xtdata连接成功 *****\n",
      "服务信息: {'tag': 'xtquant', 'version': '1.0'}\n",
      "服务地址: 127.0.0.1:58609\n",
      "数据路径: d:\\Code\\course\\miniqmt-demo\\data\\datadir\n",
      "设置xtdata.enable_hello = False可隐藏此消息\n",
      "\n"
     ]
    }
   ],
   "source": [
    "from xtquant import xtdata\n",
    "xtdata.connect(port=58609)\n",
    "\n",
    "xtdata.download_cb_data()"
   ]
  },
  {
   "cell_type": "code",
   "execution_count": 2,
   "metadata": {},
   "outputs": [
    {
     "data": {
      "text/plain": [
       "{'bondCode': '127105.SZ',\n",
       " 'bondName': '龙星转债',\n",
       " 'stockCode': '002442.SZ',\n",
       " 'stockName': '龙星化工',\n",
       " 'bondMaturity': 6.0,\n",
       " 'bondParvalue': 100.0,\n",
       " 'bondIssuePrice': 100.0,\n",
       " 'bondIssueSize': 754753900.0,\n",
       " 'bondReMainSize': 754753900.0,\n",
       " 'bondValueDate': 20240201,\n",
       " 'bondMaturityDate': 20300201,\n",
       " 'bondRateType': '',\n",
       " 'bondCouponRate': 0.2,\n",
       " 'bondAddRate': 7.56670816226e-312,\n",
       " 'bondPayPerYear': -1144904851,\n",
       " 'bondListDate': 20240306,\n",
       " 'delistDate': 20300131,\n",
       " 'bondExchange': '',\n",
       " 'convStartDate': 20240807,\n",
       " 'convEndDate': 20300131,\n",
       " 'firstConvPrice': 6.13,\n",
       " 'bondConvPrice': 6.13,\n",
       " 'rateClause': '',\n",
       " 'forceRedeemTradeDate': 0,\n",
       " 'forceRedeemConvDate': 0,\n",
       " 'forceRedeemPrice': 0.0,\n",
       " 'triggerForceRedeemPrice': 7.969,\n",
       " 'triggerRepurchasePrice': 4.291,\n",
       " 'expireRedeemPrice': 0.0,\n",
       " 'analYTM': 0.0,\n",
       " 'analPTM': 5.8192,\n",
       " 'analAccruedinterst': 0.0,\n",
       " 'analStrbvalue': 0.0,\n",
       " 'analStrbpremium': 0.0,\n",
       " 'analConvvalue': 79.771615,\n",
       " 'analConvpremiumratio': 30.328312896761595,\n",
       " 'analDuration': 5.727363,\n",
       " 'analConvexity': 38.336098,\n",
       " 'infoProvisiontype': '',\n",
       " 'termYear': 6.0,\n",
       " 'interestType': 0,\n",
       " 'level': 'AA-',\n",
       " 'forceRedeemPriceRatio': 130.0,\n",
       " 'redeemTerms': '本次发行的可转换债券转股期内，当下述两种情形的任意一种出现时，公司董事会有权决定按照以债券面值加上当期应计利息的价格赎回全部或部分未转股的可转换公司债券：1）在本次发行的可转换公司债券转股期内，如果公司A股股票在任何连续三十个交易日中至少十五个交易日的收盘价格不低于当期转股价格的130%（含130%）；2）当本次发行的可转换公司债券未转股余额不足3,000万元时。当期应计利息的计算公式为：IA=B×i×t/365IA：指当期应计利息；B：指本次发行的可转换公司债券持有人持有的将被赎回的可转换公司债券票面总金额；i：指可转换公司债券当年票面利率；t：指计息天数，即从上一个付息日起至本计息年度赎回日止的实际日历天数（算头不算尾）。若在前述三十个交易日内发生过转股价格调整的情形，则在调整前的交易日按调整前的转股价格和收盘价计算，调整后的交易日按照调整后的转股价格和收盘价计算。',\n",
       " 'nextPutDate': 20280201,\n",
       " 'putPrice': 100.0,\n",
       " 'putConvertPriceRatio': 70.0,\n",
       " 'putTerms': '（1）有条件回售条款本次发行的可转换公司债券最后两个计息年度，如果公司股票在任何连续三十个交易日的收盘价格低于当期转股价的70%时，可转换公司债券持有人有权将其持有的可转换公司债券全部或部分按债券面值加上当期应计利息的价格回售给公司。若在上述交易日内发生过转股价格因发生送红股、转增股本、增发新股（不包括因本次发行的可转债转股而增加的股本）、配股以及派发现金股利等情况而调整的情形，则在调整前的交易日按调整前的转股价格和收盘价格计算，在调整日及之后的交易日按调整后的转股价格和收盘价格计算。如果出现转股价格向下修正的情况，则上述连续“三十个交易日”须从转股价格调整之后的第一个交易日起重新计算。在本次发行的可转债最后两个计息年度，可转债持有人在每年回售条件首次满足后可按上述约定条件行使回售权一次，若在首次满足回售条件而可转债持有人未在公司届时公告的回售申报期内申报并实施回售的，该计息年度不能再行使回售权，可转换公司债券持有人不能多次行使部分回售权。（2）附加回售条款若公司本次发行可转债募集资金运用的实施情况与公司在募集说明书中的承诺相比出现重大变化，根据中国证监会、深交所的相关规定被视作改变募集资金用途或被中国证监会、深交所认定为改变募集资金用途的，可转债持有人享有一次回售的权利。可转债持有人有权将其持有的可转债全部或部分按债券面值加上当期应计利息价格回售给公司。可转债持有人在附加回售条件满足后，可以在公司公告后的附加回售申报期内进行回售，该次附加回售申报期内不实施回售的，不应再行使附加回售权。当期应计利息的计算公式为：IA＝B×i×t/365IA：指当期应计利息；B：指本次发行的可转换公司债券持有人持有的将回售的可转换公司债券票面总金额；i：指可转换公司债券当年票面利率；t：指计息天数，即从上一个付息日起至本计息年度回售日止的实际日历天数（算头不算尾）。公司将在回售条件满足后披露回售公告，明确回售的期间、程序、价格等内容，并在回售期结束后披露回售结果公告。',\n",
       " 'triggerAdjustPrice': 5.2105,\n",
       " 'adjustPriceRatio': 85.0,\n",
       " 'adjustTerms': '在本次发行的可转换公司债券存续期间，当公司股票在任意连续30个交易日中至少有15个交易日的收盘价不高于当期转股价格的85%时，公司董事会有权提出转股价格向下修正方案并提交公司股东大会审议表决。上述方案须经出席会议的股东所持表决权的三分之二以上通过方可实施。股东大会进行表决时，持有本次发行的可转换公司债券的股东应当回避。修正后的转股价格应不低于本次股东大会召开日前20个交易日公司股票交易均价和前一交易日均价之间的较高者。若在前述30个交易日内发生过转股价格调整的情形，则在转股价格调整日前的交易日按调整前的转股价格和收盘价格计算，在转股价格调整日及之后的交易日按调整后的转股价格和收盘价格计算。（2）修正程序如公司决定向下修正转股价格时，公司将在中国证监会指定的上市公司信息披露媒体上刊登股东大会决议公告，公告修正幅度、股权登记日及暂停转股期间（如需）等。从股权登记日后的第一个交易日（即转股价格修正日）开始恢复转股申请并执行修正后的转股价格。若转股价格修正日为转股申请日或之后，转换股份登记日之前，该类转股申请应按修正后的转股价格执行。',\n",
       " 'ytm': 0.569092,\n",
       " 'redeemStatus': '0/15 | 30',\n",
       " 'adjustStatus': '暂不下修 2024-06-25重新计',\n",
       " 'readjustDate': 20240625,\n",
       " 'regProvince': '河北省'}"
      ]
     },
     "execution_count": 2,
     "metadata": {},
     "output_type": "execute_result"
    }
   ],
   "source": [
    "res = xtdata.get_cb_info('127105.SZ')\n",
    "res"
   ]
  }
 ],
 "metadata": {
  "kernelspec": {
   "display_name": "miniqmt-demo-cptEsqYo-py3.10",
   "language": "python",
   "name": "python3"
  },
  "language_info": {
   "codemirror_mode": {
    "name": "ipython",
    "version": 3
   },
   "file_extension": ".py",
   "mimetype": "text/x-python",
   "name": "python",
   "nbconvert_exporter": "python",
   "pygments_lexer": "ipython3",
   "version": "3.10.11"
  }
 },
 "nbformat": 4,
 "nbformat_minor": 2
}
